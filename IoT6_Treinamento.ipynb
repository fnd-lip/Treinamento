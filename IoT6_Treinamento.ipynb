{
  "cells": [
    {
      "cell_type": "code",
      "execution_count": null,
      "metadata": {
        "id": "RJNSKsgHfD76"
      },
      "outputs": [],
      "source": [
        "import numpy as np\n",
        "import pandas as pd\n",
        "import matplotlib.pyplot as plt\n",
        "import tensorflow as tf\n",
        "from tensorflow.keras.models import load_model\n",
        "from tensorflow.keras.optimizers import Adam\n",
        "from sklearn.model_selection import train_test_split\n",
        "from PIL import Image\n",
        "from pathlib import Path\n",
        "import os\n",
        "from sklearn.metrics import classification_report, confusion_matrix\n",
        "from sklearn.utils.class_weight import compute_class_weight\n"
      ]
    },
    {
      "cell_type": "code",
      "execution_count": null,
      "metadata": {
        "id": "I5TLAmdVfKYj"
      },
      "outputs": [],
      "source": [
        "# Caminho do dataset\n",
        "DATASET_PATH = \"/content/drive/MyDrive/garbage_classifcat\""
      ]
    },
    {
      "cell_type": "markdown",
      "source": [],
      "metadata": {
        "id": "H0znQi4LKoGv"
      }
    },
    {
      "cell_type": "code",
      "execution_count": null,
      "metadata": {
        "colab": {
          "base_uri": "https://localhost:8080/"
        },
        "id": "nAbzyagofOww",
        "outputId": "74735937-2d8c-4695-d6ed-0e7c089f2c87"
      },
      "outputs": [
        {
          "name": "stdout",
          "output_type": "stream",
          "text": [
            "Drive already mounted at /content/drive; to attempt to forcibly remount, call drive.mount(\"/content/drive\", force_remount=True).\n"
          ]
        }
      ],
      "source": [
        "# Montar o Google Drive\n",
        "from google.colab import drive\n",
        "drive.mount('/content/drive')"
      ]
    },
    {
      "cell_type": "code",
      "execution_count": null,
      "metadata": {
        "id": "oeJi8wZZfTYx"
      },
      "outputs": [],
      "source": [
        "# Listar arquivos do diretório\n",
        "image_dir = Path(DATASET_PATH)\n",
        "filepaths = list(image_dir.glob(r'**/*.JPG')) + list(image_dir.glob(r'**/*.jpg')) + list(image_dir.glob(r'**/*.png'))\n",
        "labels = list(map(lambda x: os.path.split(os.path.split(x)[0])[1], filepaths))"
      ]
    },
    {
      "cell_type": "code",
      "execution_count": null,
      "metadata": {
        "id": "vWC3ViVqfXUh"
      },
      "outputs": [],
      "source": [
        "# Criar DataFrame\n",
        "df = pd.DataFrame({'Filepath': filepaths, 'Label': labels})\n",
        "df['Filepath'] = df['Filepath'].astype(str)"
      ]
    },
    {
      "cell_type": "code",
      "execution_count": null,
      "metadata": {
        "id": "CJ8ddkAOfcR-"
      },
      "outputs": [],
      "source": [
        "# Divisão em treino e teste\n",
        "train_df, test_df = train_test_split(df, test_size=0.2, shuffle=True, random_state=42)"
      ]
    },
    {
      "cell_type": "code",
      "execution_count": null,
      "metadata": {
        "colab": {
          "base_uri": "https://localhost:8080/"
        },
        "id": "UhVy2kHpfhKX",
        "outputId": "bb9fac52-80b2-4b5d-d7d4-a7b321ad0cbc"
      },
      "outputs": [
        {
          "name": "stdout",
          "output_type": "stream",
          "text": [
            "Found 5120 validated image filenames belonging to 4 classes.\n",
            "Found 1280 validated image filenames belonging to 4 classes.\n",
            "Found 1600 validated image filenames belonging to 4 classes.\n"
          ]
        }
      ],
      "source": [
        "# Geradores de dados com Data Augmentation\n",
        "train_generator = tf.keras.preprocessing.image.ImageDataGenerator(\n",
        "    preprocessing_function=tf.keras.applications.mobilenet_v2.preprocess_input,\n",
        "    validation_split=0.2,\n",
        "    rotation_range=40,\n",
        "    width_shift_range=0.3,\n",
        "    height_shift_range=0.3,\n",
        "    brightness_range=[0.4, 1.6],\n",
        "    zoom_range=0.3,\n",
        "    horizontal_flip=True,\n",
        "    shear_range=0.2,\n",
        "    channel_shift_range=0.2\n",
        ")\n",
        "\n",
        "val_generator = tf.keras.preprocessing.image.ImageDataGenerator(\n",
        "    preprocessing_function=tf.keras.applications.mobilenet_v2.preprocess_input,\n",
        "    validation_split=0.2,\n",
        "    rotation_range=20,\n",
        "    width_shift_range=0.2,\n",
        "    height_shift_range=0.2,\n",
        "    brightness_range=[0.8, 1.2],\n",
        "    zoom_range=0.2,\n",
        "    horizontal_flip=True\n",
        ")\n",
        "\n",
        "train_images = train_generator.flow_from_dataframe(\n",
        "    dataframe=train_df,\n",
        "    x_col='Filepath',\n",
        "    y_col='Label',\n",
        "    target_size=(224, 224),\n",
        "    batch_size=32,\n",
        "    class_mode='categorical',\n",
        "    subset='training'\n",
        ")\n",
        "\n",
        "val_images = val_generator.flow_from_dataframe(\n",
        "    dataframe=train_df,\n",
        "    x_col='Filepath',\n",
        "    y_col='Label',\n",
        "    target_size=(224, 224),\n",
        "    batch_size=32,\n",
        "    class_mode='categorical',\n",
        "    subset='validation'\n",
        ")\n",
        "\n",
        "test_images = val_generator.flow_from_dataframe(\n",
        "    dataframe=test_df,\n",
        "    x_col='Filepath',\n",
        "    y_col='Label',\n",
        "    target_size=(224, 224),\n",
        "    batch_size=32,\n",
        "    class_mode='categorical',\n",
        "    shuffle=False\n",
        ")"
      ]
    },
    {
      "cell_type": "code",
      "execution_count": null,
      "metadata": {
        "id": "j-YTzXj6fo_p"
      },
      "outputs": [],
      "source": [
        "# Balanceamento das classes\n",
        "class_weights = compute_class_weight('balanced', classes=np.unique(df['Label']), y=df['Label'])\n",
        "class_weights = dict(enumerate(class_weights))"
      ]
    },
    {
      "cell_type": "code",
      "execution_count": null,
      "metadata": {
        "colab": {
          "base_uri": "https://localhost:8080/"
        },
        "id": "a3R6XnNvfsxF",
        "outputId": "2f3613a0-bbb2-4cfc-8056-8ddb7d317466"
      },
      "outputs": [
        {
          "name": "stdout",
          "output_type": "stream",
          "text": [
            "Downloading data from https://storage.googleapis.com/tensorflow/keras-applications/mobilenet_v2/mobilenet_v2_weights_tf_dim_ordering_tf_kernels_1.0_224_no_top.h5\n",
            "\u001b[1m9406464/9406464\u001b[0m \u001b[32m━━━━━━━━━━━━━━━━━━━━\u001b[0m\u001b[37m\u001b[0m \u001b[1m0s\u001b[0m 0us/step\n"
          ]
        }
      ],
      "source": [
        "# Carregar modelo pré-treinado\n",
        "pretrained_model = tf.keras.applications.MobileNetV2(input_shape=(224, 224, 3), include_top=False, weights='imagenet', pooling='avg')\n",
        "pretrained_model.trainable = True\n"
      ]
    },
    {
      "cell_type": "code",
      "execution_count": null,
      "metadata": {
        "id": "d86cVipofvOa"
      },
      "outputs": [],
      "source": [
        "# Congelar apenas as primeiras 100 camadas\n",
        "for layer in pretrained_model.layers[:100]:\n",
        "    layer.trainable = False\n"
      ]
    },
    {
      "cell_type": "code",
      "execution_count": null,
      "metadata": {
        "id": "Cyv72mQHfyyP"
      },
      "outputs": [],
      "source": [
        "# Construção do modelo\n",
        "inputs = pretrained_model.input\n",
        "x = tf.keras.layers.Dense(512, activation='relu')(pretrained_model.output)\n",
        "x = tf.keras.layers.BatchNormalization()(x)\n",
        "x = tf.keras.layers.Dropout(0.4)(x)  # Aumento do dropout\n",
        "x = tf.keras.layers.Dense(512, activation='relu')(x)\n",
        "x = tf.keras.layers.BatchNormalization()(x)\n",
        "x = tf.keras.layers.Dropout(0.4)(x)\n",
        "outputs = tf.keras.layers.Dense(len(train_images.class_indices), activation='softmax')(x)\n",
        "model = tf.keras.Model(inputs=inputs, outputs=outputs)\n",
        "\n",
        "model.compile(optimizer=Adam(learning_rate=3e-5), loss='categorical_crossentropy', metrics=['accuracy'])"
      ]
    },
    {
      "cell_type": "code",
      "execution_count": null,
      "metadata": {
        "id": "Sj4a-fEOf2vp"
      },
      "outputs": [],
      "source": [
        "# Callbacks\n",
        "checkpoint_path = \"model_resolid.weights.h5\"\n",
        "checkpoint_callback = tf.keras.callbacks.ModelCheckpoint(checkpoint_path, save_weights_only=True, monitor=\"val_accuracy\", save_best_only=True)\n",
        "early_stopping = tf.keras.callbacks.EarlyStopping(monitor=\"val_loss\", patience=80, restore_best_weights=True)"
      ]
    },
    {
      "cell_type": "code",
      "execution_count": null,
      "metadata": {
        "colab": {
          "background_save": true,
          "base_uri": "https://localhost:8080/",
          "height": 480
        },
        "id": "-906tTSUf553",
        "outputId": "0bc46c4d-5ad6-44cc-e9a1-e279a79dfcbc"
      },
      "outputs": [
        {
          "ename": "NameError",
          "evalue": "name 'model' is not defined",
          "output_type": "error",
          "traceback": [
            "\u001b[0;31m---------------------------------------------------------------------------\u001b[0m",
            "\u001b[0;31mNameError\u001b[0m                                 Traceback (most recent call last)",
            "\u001b[0;32m<ipython-input-1-201bf45f6f05>\u001b[0m in \u001b[0;36m<cell line: 0>\u001b[0;34m()\u001b[0m\n\u001b[1;32m      1\u001b[0m \u001b[0;31m# Treinamento do modelo\u001b[0m\u001b[0;34m\u001b[0m\u001b[0;34m\u001b[0m\u001b[0m\n\u001b[0;32m----> 2\u001b[0;31m history = model.fit(\n\u001b[0m\u001b[1;32m      3\u001b[0m     \u001b[0mtrain_images\u001b[0m\u001b[0;34m,\u001b[0m\u001b[0;34m\u001b[0m\u001b[0;34m\u001b[0m\u001b[0m\n\u001b[1;32m      4\u001b[0m     \u001b[0mvalidation_data\u001b[0m\u001b[0;34m=\u001b[0m\u001b[0mval_images\u001b[0m\u001b[0;34m,\u001b[0m\u001b[0;34m\u001b[0m\u001b[0;34m\u001b[0m\u001b[0m\n\u001b[1;32m      5\u001b[0m     \u001b[0mepochs\u001b[0m\u001b[0;34m=\u001b[0m\u001b[0;36m20\u001b[0m\u001b[0;34m,\u001b[0m\u001b[0;34m\u001b[0m\u001b[0;34m\u001b[0m\u001b[0m\n",
            "\u001b[0;31mNameError\u001b[0m: name 'model' is not defined"
          ]
        }
      ],
      "source": [
        "# Treinamento do modelo\n",
        "history = model.fit(\n",
        "    train_images,\n",
        "    validation_data=val_images,\n",
        "    epochs=20,\n",
        "    class_weight=class_weights,\n",
        "    callbacks=[early_stopping, checkpoint_callback]\n",
        ")"
      ]
    },
    {
      "cell_type": "code",
      "execution_count": null,
      "metadata": {
        "colab": {
          "base_uri": "https://localhost:8080/"
        },
        "id": "seVVL2cBf884",
        "outputId": "619ea414-9d79-4076-e2eb-b556ed51c488"
      },
      "outputs": [
        {
          "name": "stdout",
          "output_type": "stream",
          "text": [
            "Saved artifact at '/tmp/tmp8tnxx9qi'. The following endpoints are available:\n",
            "\n",
            "* Endpoint 'serve'\n",
            "  args_0 (POSITIONAL_ONLY): TensorSpec(shape=(None, 224, 224, 3), dtype=tf.float32, name='keras_tensor')\n",
            "Output Type:\n",
            "  TensorSpec(shape=(None, 4), dtype=tf.float32, name=None)\n",
            "Captures:\n",
            "  137500535523664: TensorSpec(shape=(), dtype=tf.resource, name=None)\n",
            "  137500535523280: TensorSpec(shape=(), dtype=tf.resource, name=None)\n",
            "  137500535527504: TensorSpec(shape=(), dtype=tf.resource, name=None)\n",
            "  137500535527120: TensorSpec(shape=(), dtype=tf.resource, name=None)\n",
            "  137500535525968: TensorSpec(shape=(), dtype=tf.resource, name=None)\n",
            "  137500535527696: TensorSpec(shape=(), dtype=tf.resource, name=None)\n",
            "  137500535526736: TensorSpec(shape=(), dtype=tf.resource, name=None)\n",
            "  137500535523472: TensorSpec(shape=(), dtype=tf.resource, name=None)\n",
            "  137500535527888: TensorSpec(shape=(), dtype=tf.resource, name=None)\n",
            "  137500535525776: TensorSpec(shape=(), dtype=tf.resource, name=None)\n",
            "  137500535528272: TensorSpec(shape=(), dtype=tf.resource, name=None)\n",
            "  137500535529808: TensorSpec(shape=(), dtype=tf.resource, name=None)\n",
            "  137500535526544: TensorSpec(shape=(), dtype=tf.resource, name=None)\n",
            "  137500535526352: TensorSpec(shape=(), dtype=tf.resource, name=None)\n",
            "  137500535528848: TensorSpec(shape=(), dtype=tf.resource, name=None)\n",
            "  137500535531728: TensorSpec(shape=(), dtype=tf.resource, name=None)\n",
            "  137500535533648: TensorSpec(shape=(), dtype=tf.resource, name=None)\n",
            "  137500535532304: TensorSpec(shape=(), dtype=tf.resource, name=None)\n",
            "  137500535532688: TensorSpec(shape=(), dtype=tf.resource, name=None)\n",
            "  137500535531536: TensorSpec(shape=(), dtype=tf.resource, name=None)\n",
            "  137500535535184: TensorSpec(shape=(), dtype=tf.resource, name=None)\n",
            "  137500535534800: TensorSpec(shape=(), dtype=tf.resource, name=None)\n",
            "  137500535534416: TensorSpec(shape=(), dtype=tf.resource, name=None)\n",
            "  137500535535376: TensorSpec(shape=(), dtype=tf.resource, name=None)\n",
            "  137500535534032: TensorSpec(shape=(), dtype=tf.resource, name=None)\n",
            "  137500535537488: TensorSpec(shape=(), dtype=tf.resource, name=None)\n",
            "  137500535532880: TensorSpec(shape=(), dtype=tf.resource, name=None)\n",
            "  137500530032720: TensorSpec(shape=(), dtype=tf.resource, name=None)\n",
            "  137500535537104: TensorSpec(shape=(), dtype=tf.resource, name=None)\n",
            "  137500535536336: TensorSpec(shape=(), dtype=tf.resource, name=None)\n",
            "  137500530034448: TensorSpec(shape=(), dtype=tf.resource, name=None)\n",
            "  137500530034832: TensorSpec(shape=(), dtype=tf.resource, name=None)\n",
            "  137500530035216: TensorSpec(shape=(), dtype=tf.resource, name=None)\n",
            "  137500530035024: TensorSpec(shape=(), dtype=tf.resource, name=None)\n",
            "  137500530033680: TensorSpec(shape=(), dtype=tf.resource, name=None)\n",
            "  137500530036368: TensorSpec(shape=(), dtype=tf.resource, name=None)\n",
            "  137500530036752: TensorSpec(shape=(), dtype=tf.resource, name=None)\n",
            "  137500530037136: TensorSpec(shape=(), dtype=tf.resource, name=None)\n",
            "  137500530036944: TensorSpec(shape=(), dtype=tf.resource, name=None)\n",
            "  137500530033104: TensorSpec(shape=(), dtype=tf.resource, name=None)\n",
            "  137500530034064: TensorSpec(shape=(), dtype=tf.resource, name=None)\n",
            "  137500530038864: TensorSpec(shape=(), dtype=tf.resource, name=None)\n",
            "  137500530039248: TensorSpec(shape=(), dtype=tf.resource, name=None)\n",
            "  137500530039056: TensorSpec(shape=(), dtype=tf.resource, name=None)\n",
            "  137500530035600: TensorSpec(shape=(), dtype=tf.resource, name=None)\n",
            "  137500530037904: TensorSpec(shape=(), dtype=tf.resource, name=None)\n",
            "  137500530040976: TensorSpec(shape=(), dtype=tf.resource, name=None)\n",
            "  137500530041360: TensorSpec(shape=(), dtype=tf.resource, name=None)\n",
            "  137500530041168: TensorSpec(shape=(), dtype=tf.resource, name=None)\n",
            "  137500530038288: TensorSpec(shape=(), dtype=tf.resource, name=None)\n",
            "  137500530042512: TensorSpec(shape=(), dtype=tf.resource, name=None)\n",
            "  137500530042896: TensorSpec(shape=(), dtype=tf.resource, name=None)\n",
            "  137500530043280: TensorSpec(shape=(), dtype=tf.resource, name=None)\n",
            "  137500530043088: TensorSpec(shape=(), dtype=tf.resource, name=None)\n",
            "  137500530040016: TensorSpec(shape=(), dtype=tf.resource, name=None)\n",
            "  137500530044432: TensorSpec(shape=(), dtype=tf.resource, name=None)\n",
            "  137500530044816: TensorSpec(shape=(), dtype=tf.resource, name=None)\n",
            "  137500530045200: TensorSpec(shape=(), dtype=tf.resource, name=None)\n",
            "  137500530045008: TensorSpec(shape=(), dtype=tf.resource, name=None)\n",
            "  137500530040592: TensorSpec(shape=(), dtype=tf.resource, name=None)\n",
            "  137500530046352: TensorSpec(shape=(), dtype=tf.resource, name=None)\n",
            "  137500530046736: TensorSpec(shape=(), dtype=tf.resource, name=None)\n",
            "  137500530047120: TensorSpec(shape=(), dtype=tf.resource, name=None)\n",
            "  137500530046928: TensorSpec(shape=(), dtype=tf.resource, name=None)\n",
            "  137500530042128: TensorSpec(shape=(), dtype=tf.resource, name=None)\n",
            "  137500530048272: TensorSpec(shape=(), dtype=tf.resource, name=None)\n",
            "  137500530048848: TensorSpec(shape=(), dtype=tf.resource, name=None)\n",
            "  137500530047504: TensorSpec(shape=(), dtype=tf.resource, name=None)\n",
            "  137500530048656: TensorSpec(shape=(), dtype=tf.resource, name=None)\n",
            "  137500530045968: TensorSpec(shape=(), dtype=tf.resource, name=None)\n",
            "  137500530426128: TensorSpec(shape=(), dtype=tf.resource, name=None)\n",
            "  137500530427472: TensorSpec(shape=(), dtype=tf.resource, name=None)\n",
            "  137500530427856: TensorSpec(shape=(), dtype=tf.resource, name=None)\n",
            "  137500530427664: TensorSpec(shape=(), dtype=tf.resource, name=None)\n",
            "  137500530427088: TensorSpec(shape=(), dtype=tf.resource, name=None)\n",
            "  137500530429008: TensorSpec(shape=(), dtype=tf.resource, name=None)\n",
            "  137500530429392: TensorSpec(shape=(), dtype=tf.resource, name=None)\n",
            "  137500530429776: TensorSpec(shape=(), dtype=tf.resource, name=None)\n",
            "  137500530429584: TensorSpec(shape=(), dtype=tf.resource, name=None)\n",
            "  137500530426320: TensorSpec(shape=(), dtype=tf.resource, name=None)\n",
            "  137500530430928: TensorSpec(shape=(), dtype=tf.resource, name=None)\n",
            "  137500530431312: TensorSpec(shape=(), dtype=tf.resource, name=None)\n",
            "  137500530431696: TensorSpec(shape=(), dtype=tf.resource, name=None)\n",
            "  137500530431504: TensorSpec(shape=(), dtype=tf.resource, name=None)\n",
            "  137500530426512: TensorSpec(shape=(), dtype=tf.resource, name=None)\n",
            "  137500530432848: TensorSpec(shape=(), dtype=tf.resource, name=None)\n",
            "  137500530433232: TensorSpec(shape=(), dtype=tf.resource, name=None)\n",
            "  137500530433616: TensorSpec(shape=(), dtype=tf.resource, name=None)\n",
            "  137500530433424: TensorSpec(shape=(), dtype=tf.resource, name=None)\n",
            "  137500530428624: TensorSpec(shape=(), dtype=tf.resource, name=None)\n",
            "  137500530434768: TensorSpec(shape=(), dtype=tf.resource, name=None)\n",
            "  137500530435152: TensorSpec(shape=(), dtype=tf.resource, name=None)\n",
            "  137500530435536: TensorSpec(shape=(), dtype=tf.resource, name=None)\n",
            "  137500530435344: TensorSpec(shape=(), dtype=tf.resource, name=None)\n",
            "  137500530430544: TensorSpec(shape=(), dtype=tf.resource, name=None)\n",
            "  137500530436688: TensorSpec(shape=(), dtype=tf.resource, name=None)\n",
            "  137500530437072: TensorSpec(shape=(), dtype=tf.resource, name=None)\n",
            "  137500530437456: TensorSpec(shape=(), dtype=tf.resource, name=None)\n",
            "  137500530437264: TensorSpec(shape=(), dtype=tf.resource, name=None)\n",
            "  137500530432464: TensorSpec(shape=(), dtype=tf.resource, name=None)\n",
            "  137500530438608: TensorSpec(shape=(), dtype=tf.resource, name=None)\n",
            "  137500530438992: TensorSpec(shape=(), dtype=tf.resource, name=None)\n",
            "  137500530439376: TensorSpec(shape=(), dtype=tf.resource, name=None)\n",
            "  137500530439184: TensorSpec(shape=(), dtype=tf.resource, name=None)\n",
            "  137500530434384: TensorSpec(shape=(), dtype=tf.resource, name=None)\n",
            "  137500530440528: TensorSpec(shape=(), dtype=tf.resource, name=None)\n",
            "  137500530440912: TensorSpec(shape=(), dtype=tf.resource, name=None)\n",
            "  137500530441296: TensorSpec(shape=(), dtype=tf.resource, name=None)\n",
            "  137500530441104: TensorSpec(shape=(), dtype=tf.resource, name=None)\n",
            "  137500530436304: TensorSpec(shape=(), dtype=tf.resource, name=None)\n",
            "  137500530439760: TensorSpec(shape=(), dtype=tf.resource, name=None)\n",
            "  137500530852496: TensorSpec(shape=(), dtype=tf.resource, name=None)\n",
            "  137500530852880: TensorSpec(shape=(), dtype=tf.resource, name=None)\n",
            "  137500530442064: TensorSpec(shape=(), dtype=tf.resource, name=None)\n",
            "  137500530438224: TensorSpec(shape=(), dtype=tf.resource, name=None)\n",
            "  137500530854032: TensorSpec(shape=(), dtype=tf.resource, name=None)\n",
            "  137500530854416: TensorSpec(shape=(), dtype=tf.resource, name=None)\n",
            "  137500530854800: TensorSpec(shape=(), dtype=tf.resource, name=None)\n",
            "  137500530854608: TensorSpec(shape=(), dtype=tf.resource, name=None)\n",
            "  137500530851920: TensorSpec(shape=(), dtype=tf.resource, name=None)\n",
            "  137500530855952: TensorSpec(shape=(), dtype=tf.resource, name=None)\n",
            "  137500530856336: TensorSpec(shape=(), dtype=tf.resource, name=None)\n",
            "  137500530856720: TensorSpec(shape=(), dtype=tf.resource, name=None)\n",
            "  137500530856528: TensorSpec(shape=(), dtype=tf.resource, name=None)\n",
            "  137500530852304: TensorSpec(shape=(), dtype=tf.resource, name=None)\n",
            "  137500530857872: TensorSpec(shape=(), dtype=tf.resource, name=None)\n",
            "  137500530858256: TensorSpec(shape=(), dtype=tf.resource, name=None)\n",
            "  137500530858640: TensorSpec(shape=(), dtype=tf.resource, name=None)\n",
            "  137500530858448: TensorSpec(shape=(), dtype=tf.resource, name=None)\n",
            "  137500530853648: TensorSpec(shape=(), dtype=tf.resource, name=None)\n",
            "  137500530859792: TensorSpec(shape=(), dtype=tf.resource, name=None)\n",
            "  137500530860176: TensorSpec(shape=(), dtype=tf.resource, name=None)\n",
            "  137500530860560: TensorSpec(shape=(), dtype=tf.resource, name=None)\n",
            "  137500530860368: TensorSpec(shape=(), dtype=tf.resource, name=None)\n",
            "  137500530855568: TensorSpec(shape=(), dtype=tf.resource, name=None)\n",
            "  137500530861712: TensorSpec(shape=(), dtype=tf.resource, name=None)\n",
            "  137500530862096: TensorSpec(shape=(), dtype=tf.resource, name=None)\n",
            "  137500530862480: TensorSpec(shape=(), dtype=tf.resource, name=None)\n",
            "  137500530862288: TensorSpec(shape=(), dtype=tf.resource, name=None)\n",
            "  137500530857488: TensorSpec(shape=(), dtype=tf.resource, name=None)\n",
            "  137500530863632: TensorSpec(shape=(), dtype=tf.resource, name=None)\n",
            "  137500530864016: TensorSpec(shape=(), dtype=tf.resource, name=None)\n",
            "  137500530864400: TensorSpec(shape=(), dtype=tf.resource, name=None)\n",
            "  137500530864208: TensorSpec(shape=(), dtype=tf.resource, name=None)\n",
            "  137500530859408: TensorSpec(shape=(), dtype=tf.resource, name=None)\n",
            "  137500530865552: TensorSpec(shape=(), dtype=tf.resource, name=None)\n",
            "  137500530865936: TensorSpec(shape=(), dtype=tf.resource, name=None)\n",
            "  137500530866320: TensorSpec(shape=(), dtype=tf.resource, name=None)\n",
            "  137500530866128: TensorSpec(shape=(), dtype=tf.resource, name=None)\n",
            "  137500530861328: TensorSpec(shape=(), dtype=tf.resource, name=None)\n",
            "  137500530867472: TensorSpec(shape=(), dtype=tf.resource, name=None)\n",
            "  137500530868048: TensorSpec(shape=(), dtype=tf.resource, name=None)\n",
            "  137500530866704: TensorSpec(shape=(), dtype=tf.resource, name=None)\n",
            "  137500530867856: TensorSpec(shape=(), dtype=tf.resource, name=None)\n",
            "  137500530865168: TensorSpec(shape=(), dtype=tf.resource, name=None)\n",
            "  137500463661328: TensorSpec(shape=(), dtype=tf.resource, name=None)\n",
            "  137500463662672: TensorSpec(shape=(), dtype=tf.resource, name=None)\n",
            "  137500463663056: TensorSpec(shape=(), dtype=tf.resource, name=None)\n",
            "  137500463662864: TensorSpec(shape=(), dtype=tf.resource, name=None)\n",
            "  137500463662288: TensorSpec(shape=(), dtype=tf.resource, name=None)\n",
            "  137500463664208: TensorSpec(shape=(), dtype=tf.resource, name=None)\n",
            "  137500463664592: TensorSpec(shape=(), dtype=tf.resource, name=None)\n",
            "  137500463664976: TensorSpec(shape=(), dtype=tf.resource, name=None)\n",
            "  137500463664784: TensorSpec(shape=(), dtype=tf.resource, name=None)\n",
            "  137500463661520: TensorSpec(shape=(), dtype=tf.resource, name=None)\n",
            "  137500463666128: TensorSpec(shape=(), dtype=tf.resource, name=None)\n",
            "  137500463666512: TensorSpec(shape=(), dtype=tf.resource, name=None)\n",
            "  137500463666896: TensorSpec(shape=(), dtype=tf.resource, name=None)\n",
            "  137500463666704: TensorSpec(shape=(), dtype=tf.resource, name=None)\n",
            "  137500463661712: TensorSpec(shape=(), dtype=tf.resource, name=None)\n",
            "  137500463668048: TensorSpec(shape=(), dtype=tf.resource, name=None)\n",
            "  137500463668432: TensorSpec(shape=(), dtype=tf.resource, name=None)\n",
            "  137500463668816: TensorSpec(shape=(), dtype=tf.resource, name=None)\n",
            "  137500463668624: TensorSpec(shape=(), dtype=tf.resource, name=None)\n",
            "  137500463663824: TensorSpec(shape=(), dtype=tf.resource, name=None)\n",
            "  137500463669968: TensorSpec(shape=(), dtype=tf.resource, name=None)\n",
            "  137500463670352: TensorSpec(shape=(), dtype=tf.resource, name=None)\n",
            "  137500463670736: TensorSpec(shape=(), dtype=tf.resource, name=None)\n",
            "  137500463670544: TensorSpec(shape=(), dtype=tf.resource, name=None)\n",
            "  137500463665744: TensorSpec(shape=(), dtype=tf.resource, name=None)\n",
            "  137500463671888: TensorSpec(shape=(), dtype=tf.resource, name=None)\n",
            "  137500463672272: TensorSpec(shape=(), dtype=tf.resource, name=None)\n",
            "  137500463672656: TensorSpec(shape=(), dtype=tf.resource, name=None)\n",
            "  137500463672464: TensorSpec(shape=(), dtype=tf.resource, name=None)\n",
            "  137500463667664: TensorSpec(shape=(), dtype=tf.resource, name=None)\n",
            "  137500463673808: TensorSpec(shape=(), dtype=tf.resource, name=None)\n",
            "  137500463674192: TensorSpec(shape=(), dtype=tf.resource, name=None)\n",
            "  137500463674576: TensorSpec(shape=(), dtype=tf.resource, name=None)\n",
            "  137500463674384: TensorSpec(shape=(), dtype=tf.resource, name=None)\n",
            "  137500463669584: TensorSpec(shape=(), dtype=tf.resource, name=None)\n",
            "  137500463675728: TensorSpec(shape=(), dtype=tf.resource, name=None)\n",
            "  137500463676112: TensorSpec(shape=(), dtype=tf.resource, name=None)\n",
            "  137500463676496: TensorSpec(shape=(), dtype=tf.resource, name=None)\n",
            "  137500463676304: TensorSpec(shape=(), dtype=tf.resource, name=None)\n",
            "  137500463671504: TensorSpec(shape=(), dtype=tf.resource, name=None)\n",
            "  137500463674960: TensorSpec(shape=(), dtype=tf.resource, name=None)\n",
            "  137500464153232: TensorSpec(shape=(), dtype=tf.resource, name=None)\n",
            "  137500464153616: TensorSpec(shape=(), dtype=tf.resource, name=None)\n",
            "  137500463677264: TensorSpec(shape=(), dtype=tf.resource, name=None)\n",
            "  137500463673424: TensorSpec(shape=(), dtype=tf.resource, name=None)\n",
            "  137500464154768: TensorSpec(shape=(), dtype=tf.resource, name=None)\n",
            "  137500464155152: TensorSpec(shape=(), dtype=tf.resource, name=None)\n",
            "  137500464155536: TensorSpec(shape=(), dtype=tf.resource, name=None)\n",
            "  137500464155344: TensorSpec(shape=(), dtype=tf.resource, name=None)\n",
            "  137500464152656: TensorSpec(shape=(), dtype=tf.resource, name=None)\n",
            "  137500464156688: TensorSpec(shape=(), dtype=tf.resource, name=None)\n",
            "  137500464157072: TensorSpec(shape=(), dtype=tf.resource, name=None)\n",
            "  137500464157456: TensorSpec(shape=(), dtype=tf.resource, name=None)\n",
            "  137500464157264: TensorSpec(shape=(), dtype=tf.resource, name=None)\n",
            "  137500464153040: TensorSpec(shape=(), dtype=tf.resource, name=None)\n",
            "  137500464158608: TensorSpec(shape=(), dtype=tf.resource, name=None)\n",
            "  137500464158992: TensorSpec(shape=(), dtype=tf.resource, name=None)\n",
            "  137500464159376: TensorSpec(shape=(), dtype=tf.resource, name=None)\n",
            "  137500464159184: TensorSpec(shape=(), dtype=tf.resource, name=None)\n",
            "  137500464154384: TensorSpec(shape=(), dtype=tf.resource, name=None)\n",
            "  137500464160528: TensorSpec(shape=(), dtype=tf.resource, name=None)\n",
            "  137500464160912: TensorSpec(shape=(), dtype=tf.resource, name=None)\n",
            "  137500464161296: TensorSpec(shape=(), dtype=tf.resource, name=None)\n",
            "  137500464161104: TensorSpec(shape=(), dtype=tf.resource, name=None)\n",
            "  137500464156304: TensorSpec(shape=(), dtype=tf.resource, name=None)\n",
            "  137500464162448: TensorSpec(shape=(), dtype=tf.resource, name=None)\n",
            "  137500464162832: TensorSpec(shape=(), dtype=tf.resource, name=None)\n",
            "  137500464163216: TensorSpec(shape=(), dtype=tf.resource, name=None)\n",
            "  137500464163024: TensorSpec(shape=(), dtype=tf.resource, name=None)\n",
            "  137500464158224: TensorSpec(shape=(), dtype=tf.resource, name=None)\n",
            "  137500464164368: TensorSpec(shape=(), dtype=tf.resource, name=None)\n",
            "  137500464164752: TensorSpec(shape=(), dtype=tf.resource, name=None)\n",
            "  137500464165136: TensorSpec(shape=(), dtype=tf.resource, name=None)\n",
            "  137500464164944: TensorSpec(shape=(), dtype=tf.resource, name=None)\n",
            "  137500464160144: TensorSpec(shape=(), dtype=tf.resource, name=None)\n",
            "  137500464166288: TensorSpec(shape=(), dtype=tf.resource, name=None)\n",
            "  137500464166672: TensorSpec(shape=(), dtype=tf.resource, name=None)\n",
            "  137500464167056: TensorSpec(shape=(), dtype=tf.resource, name=None)\n",
            "  137500464166864: TensorSpec(shape=(), dtype=tf.resource, name=None)\n",
            "  137500464162064: TensorSpec(shape=(), dtype=tf.resource, name=None)\n",
            "  137500464168208: TensorSpec(shape=(), dtype=tf.resource, name=None)\n",
            "  137500464168784: TensorSpec(shape=(), dtype=tf.resource, name=None)\n",
            "  137500464167440: TensorSpec(shape=(), dtype=tf.resource, name=None)\n",
            "  137500464168592: TensorSpec(shape=(), dtype=tf.resource, name=None)\n",
            "  137500464165904: TensorSpec(shape=(), dtype=tf.resource, name=None)\n",
            "  137500432580880: TensorSpec(shape=(), dtype=tf.resource, name=None)\n",
            "  137500432582224: TensorSpec(shape=(), dtype=tf.resource, name=None)\n",
            "  137500432582608: TensorSpec(shape=(), dtype=tf.resource, name=None)\n",
            "  137500432582416: TensorSpec(shape=(), dtype=tf.resource, name=None)\n",
            "  137500432581072: TensorSpec(shape=(), dtype=tf.resource, name=None)\n",
            "  137500432583760: TensorSpec(shape=(), dtype=tf.resource, name=None)\n",
            "  137500432584144: TensorSpec(shape=(), dtype=tf.resource, name=None)\n",
            "  137500432584528: TensorSpec(shape=(), dtype=tf.resource, name=None)\n",
            "  137500432584336: TensorSpec(shape=(), dtype=tf.resource, name=None)\n",
            "  137500432581648: TensorSpec(shape=(), dtype=tf.resource, name=None)\n",
            "  137500432585680: TensorSpec(shape=(), dtype=tf.resource, name=None)\n",
            "  137500432586064: TensorSpec(shape=(), dtype=tf.resource, name=None)\n",
            "  137500432586448: TensorSpec(shape=(), dtype=tf.resource, name=None)\n",
            "  137500432586256: TensorSpec(shape=(), dtype=tf.resource, name=None)\n",
            "  137500432581840: TensorSpec(shape=(), dtype=tf.resource, name=None)\n",
            "  137500432587600: TensorSpec(shape=(), dtype=tf.resource, name=None)\n",
            "  137500432587984: TensorSpec(shape=(), dtype=tf.resource, name=None)\n",
            "  137500432588368: TensorSpec(shape=(), dtype=tf.resource, name=None)\n",
            "  137500432588176: TensorSpec(shape=(), dtype=tf.resource, name=None)\n",
            "  137500432583376: TensorSpec(shape=(), dtype=tf.resource, name=None)\n",
            "  137500432587216: TensorSpec(shape=(), dtype=tf.resource, name=None)\n",
            "  137500432591056: TensorSpec(shape=(), dtype=tf.resource, name=None)\n",
            "  137500432591248: TensorSpec(shape=(), dtype=tf.resource, name=None)\n",
            "  137500432590480: TensorSpec(shape=(), dtype=tf.resource, name=None)\n",
            "  137500432589136: TensorSpec(shape=(), dtype=tf.resource, name=None)\n",
            "  137500432590864: TensorSpec(shape=(), dtype=tf.resource, name=None)\n",
            "  137500432590288: TensorSpec(shape=(), dtype=tf.resource, name=None)\n",
            "  137500432593744: TensorSpec(shape=(), dtype=tf.resource, name=None)\n",
            "  137500432593936: TensorSpec(shape=(), dtype=tf.resource, name=None)\n",
            "  137500432593168: TensorSpec(shape=(), dtype=tf.resource, name=None)\n",
            "  137500432592016: TensorSpec(shape=(), dtype=tf.resource, name=None)\n",
            "  137500432593552: TensorSpec(shape=(), dtype=tf.resource, name=None)\n",
            "  137500432592976: TensorSpec(shape=(), dtype=tf.resource, name=None)\n",
            "  137500432596624: TensorSpec(shape=(), dtype=tf.resource, name=None)\n"
          ]
        }
      ],
      "source": [
        "# Conversão para TensorFlow Lite\n",
        "converter = tf.lite.TFLiteConverter.from_keras_model(model)\n",
        "converter.optimizations = [tf.lite.Optimize.DEFAULT]\n",
        "tflite_model = converter.convert()"
      ]
    },
    {
      "cell_type": "code",
      "execution_count": null,
      "metadata": {
        "colab": {
          "base_uri": "https://localhost:8080/"
        },
        "id": "g9nm2NYzf_9E",
        "outputId": "7e11c077-0647-474a-88cf-ad35ad512be2"
      },
      "outputs": [
        {
          "name": "stderr",
          "output_type": "stream",
          "text": [
            "/usr/local/lib/python3.11/dist-packages/keras/src/trainers/data_adapters/py_dataset_adapter.py:121: UserWarning: Your `PyDataset` class should call `super().__init__(**kwargs)` in its constructor. `**kwargs` can include `workers`, `use_multiprocessing`, `max_queue_size`. Do not pass these arguments to `fit()`, as they will be ignored.\n",
            "  self._warn_if_super_not_called()\n",
            "/usr/local/lib/python3.11/dist-packages/PIL/Image.py:1045: UserWarning: Palette images with Transparency expressed in bytes should be converted to RGBA images\n",
            "  warnings.warn(\n"
          ]
        },
        {
          "name": "stdout",
          "output_type": "stream",
          "text": [
            "Test Loss: 0.31395\n",
            "Test Accuracy: 90.19%\n"
          ]
        }
      ],
      "source": [
        "# Avaliação do modelo\n",
        "results = model.evaluate(test_images, verbose=0)\n",
        "print(f\"Test Loss: {results[0]:.5f}\")\n",
        "print(f\"Test Accuracy: {results[1] * 100:.2f}%\")\n"
      ]
    },
    {
      "cell_type": "code",
      "execution_count": null,
      "metadata": {
        "colab": {
          "base_uri": "https://localhost:8080/",
          "height": 490
        },
        "id": "kBxCMvgWAUgw",
        "outputId": "74dbaa20-93af-449f-b454-cc8895e2e8d8"
      },
      "outputs": [
        {
          "data": {
            "image/png": "[encoded data removed]",
            "text/plain": [
              "<Figure size 1000x500 with 1 Axes>"
            ]
          },
          "metadata": {},
          "output_type": "display_data"
        }
      ],
      "source": [
        "# Análise de Overfitting\n",
        "train_acc = history.history['accuracy']\n",
        "val_acc = history.history['val_accuracy']\n",
        "\n",
        "plt.figure(figsize=(10, 5))\n",
        "plt.plot(train_acc, label='Acurácia Treino')\n",
        "plt.plot(val_acc, label='Acurácia Validação')\n",
        "plt.xlabel('Épocas')\n",
        "plt.ylabel('Acurácia')\n",
        "plt.legend()\n",
        "plt.title('Evolução da Acurácia')\n",
        "plt.show()"
      ]
    },
    {
      "cell_type": "code",
      "execution_count": null,
      "metadata": {
        "colab": {
          "base_uri": "https://localhost:8080/"
        },
        "id": "R9WgqlguAXSC",
        "outputId": "c6cfb0ec-7ce1-43b5-db8c-4653b2df157f"
      },
      "outputs": [
        {
          "name": "stdout",
          "output_type": "stream",
          "text": [
            "Modelo parece bem equilibrado entre treino e validação.\n"
          ]
        }
      ],
      "source": [
        "# Verificar se há overfitting\n",
        "acc_diff = np.array(train_acc) - np.array(val_acc)\n",
        "if max(acc_diff) > 0.1:\n",
        "    print(\"Possível overfitting detectado: Acurácia de treino significativamente maior que validação.\")\n",
        "else:\n",
        "    print(\"Modelo parece bem equilibrado entre treino e validação.\")"
      ]
    },
    {
      "cell_type": "code",
      "execution_count": null,
      "metadata": {
        "colab": {
          "base_uri": "https://localhost:8080/",
          "height": 54
        },
        "id": "6SxDocWQCmnr",
        "outputId": "844c4e2d-08fe-4efd-cdff-9306311c662a"
      },
      "outputs": [
        {
          "name": "stderr",
          "output_type": "stream",
          "text": [
            "WARNING:absl:You are saving your model as an HDF5 file via `model.save()` or `keras.saving.save_model(model)`. This file format is considered legacy. We recommend using instead the native Keras format, e.g. `model.save('my_model.keras')` or `keras.saving.save_model(model, 'my_model.keras')`. \n"
          ]
        },
        {
          "data": {
            "application/javascript": [
              "\n",
              "    async function download(id, filename, size) {\n",
              "      if (!google.colab.kernel.accessAllowed) {\n",
              "        return;\n",
              "      }\n",
              "      const div = document.createElement('div');\n",
              "      const label = document.createElement('label');\n",
              "      label.textContent = `Downloading \"${filename}\": `;\n",
              "      div.appendChild(label);\n",
              "      const progress = document.createElement('progress');\n",
              "      progress.max = size;\n",
              "      div.appendChild(progress);\n",
              "      document.body.appendChild(div);\n",
              "\n",
              "      const buffers = [];\n",
              "      let downloaded = 0;\n",
              "\n",
              "      const channel = await google.colab.kernel.comms.open(id);\n",
              "      // Send a message to notify the kernel that we're ready.\n",
              "      channel.send({})\n",
              "\n",
              "      for await (const message of channel.messages) {\n",
              "        // Send a message to notify the kernel that we're ready.\n",
              "        channel.send({})\n",
              "        if (message.buffers) {\n",
              "          for (const buffer of message.buffers) {\n",
              "            buffers.push(buffer);\n",
              "            downloaded += buffer.byteLength;\n",
              "            progress.value = downloaded;\n",
              "          }\n",
              "        }\n",
              "      }\n",
              "      const blob = new Blob(buffers, {type: 'application/binary'});\n",
              "      const a = document.createElement('a');\n",
              "      a.href = window.URL.createObjectURL(blob);\n",
              "      a.download = filename;\n",
              "      div.appendChild(a);\n",
              "      a.click();\n",
              "      div.remove();\n",
              "    }\n",
              "  "
            ],
            "text/plain": [
              "<IPython.core.display.Javascript object>"
            ]
          },
          "metadata": {},
          "output_type": "display_data"
        },
        {
          "data": {
            "application/javascript": [
              "download(\"download_15794e0c-4c6f-4b52-9b1b-5bd6cdc88a03\", \"modelo_treinado.h5\", 35615512)"
            ],
            "text/plain": [
              "<IPython.core.display.Javascript object>"
            ]
          },
          "metadata": {},
          "output_type": "display_data"
        },
        {
          "data": {
            "application/javascript": [
              "\n",
              "    async function download(id, filename, size) {\n",
              "      if (!google.colab.kernel.accessAllowed) {\n",
              "        return;\n",
              "      }\n",
              "      const div = document.createElement('div');\n",
              "      const label = document.createElement('label');\n",
              "      label.textContent = `Downloading \"${filename}\": `;\n",
              "      div.appendChild(label);\n",
              "      const progress = document.createElement('progress');\n",
              "      progress.max = size;\n",
              "      div.appendChild(progress);\n",
              "      document.body.appendChild(div);\n",
              "\n",
              "      const buffers = [];\n",
              "      let downloaded = 0;\n",
              "\n",
              "      const channel = await google.colab.kernel.comms.open(id);\n",
              "      // Send a message to notify the kernel that we're ready.\n",
              "      channel.send({})\n",
              "\n",
              "      for await (const message of channel.messages) {\n",
              "        // Send a message to notify the kernel that we're ready.\n",
              "        channel.send({})\n",
              "        if (message.buffers) {\n",
              "          for (const buffer of message.buffers) {\n",
              "            buffers.push(buffer);\n",
              "            downloaded += buffer.byteLength;\n",
              "            progress.value = downloaded;\n",
              "          }\n",
              "        }\n",
              "      }\n",
              "      const blob = new Blob(buffers, {type: 'application/binary'});\n",
              "      const a = document.createElement('a');\n",
              "      a.href = window.URL.createObjectURL(blob);\n",
              "      a.download = filename;\n",
              "      div.appendChild(a);\n",
              "      a.click();\n",
              "      div.remove();\n",
              "    }\n",
              "  "
            ],
            "text/plain": [
              "<IPython.core.display.Javascript object>"
            ]
          },
          "metadata": {},
          "output_type": "display_data"
        },
        {
          "data": {
            "application/javascript": [
              "download(\"download_1e458483-de2b-4d5a-b0e9-3be76f607ccb\", \"modelo_treinado.tflite\", 3437560)"
            ],
            "text/plain": [
              "<IPython.core.display.Javascript object>"
            ]
          },
          "metadata": {},
          "output_type": "display_data"
        }
      ],
      "source": [
        "# Salvar modelo completo em formato .h5\n",
        "model.save(\"modelo_treinado.h5\")\n",
        "\n",
        "# Salvar modelo convertido para TensorFlow Lite\n",
        "with open(\"modelo_treinado.tflite\", \"wb\") as f:\n",
        "    f.write(tflite_model)\n",
        "\n",
        "# Disponibilizar para download no Google Colab\n",
        "from google.colab import files\n",
        "files.download(\"modelo_treinado.h5\")\n",
        "files.download(\"modelo_treinado.tflite\")\n"
      ]
    }
  ],
  "metadata": {
    "accelerator": "GPU",
    "colab": {
      "gpuType": "T4",
      "provenance": []
    },
    "kernelspec": {
      "display_name": "Python 3",
      "name": "python3"
    },
    "language_info": {
      "name": "python"
    }
  },
  "nbformat": 4,
  "nbformat_minor": 0
}